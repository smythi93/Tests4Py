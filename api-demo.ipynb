{
 "cells": [
  {
   "cell_type": "markdown",
   "metadata": {},
   "source": [
    "# Tests4Py API Demonstration\n",
    "\n",
    "In this short demonstration we want to show the usage of _Tests4Py_ directly from a Python script leveraging its\n",
    "built-in API."
   ]
  },
  {
   "cell_type": "markdown",
   "metadata": {},
   "source": [
    "## Installing Tests4Py\n",
    "\n",
    "First lets install the _Tests4Py_ benchmark."
   ]
  },
  {
   "cell_type": "code",
   "execution_count": 1,
   "metadata": {
    "collapsed": false,
    "jupyter": {
     "outputs_hidden": false
    },
    "ExecuteTime": {
     "end_time": "2023-05-18T06:09:03.975962Z",
     "start_time": "2023-05-18T06:09:01.457546Z"
    }
   },
   "source": [
    "!pip install tests4py"
   ],
   "outputs": []
  },
  {
   "cell_type": "markdown",
   "metadata": {},
   "source": [
    "## Getting Some Information\n",
    "\n",
    "Let's begin by getting some information. First we need to import the _Tests4Py_ framework."
   ]
  },
  {
   "cell_type": "code",
   "execution_count": 2,
   "metadata": {
    "collapsed": false,
    "jupyter": {
     "outputs_hidden": false
    },
    "ExecuteTime": {
     "end_time": "2023-05-18T06:09:04.470320Z",
     "start_time": "2023-05-18T06:09:03.979051Z"
    }
   },
   "source": [
    "from tests4py import framework"
   ],
   "outputs": []
  },
  {
   "cell_type": "markdown",
   "metadata": {},
   "source": [
    "Now we can retrieve the information for all subjects."
   ]
  },
  {
   "cell_type": "code",
   "execution_count": 3,
   "metadata": {
    "collapsed": false,
    "jupyter": {
     "outputs_hidden": false
    },
    "ExecuteTime": {
     "end_time": "2023-05-18T06:09:04.503770Z",
     "start_time": "2023-05-18T06:09:04.471878Z"
    }
   },
   "source": [
    "framework.default.tests4py_info()"
   ],
   "outputs": []
  },
  {
   "cell_type": "markdown",
   "metadata": {},
   "source": [
    "---\n",
    "**If _Tests4Py_ does not work**\n",
    "\n",
    "_Tests4Py_ relies on _pyenv_ for executing its subject.\n",
    "If _Tests4Py_ shows you a message that it cannot find _pyenv_ you should install it by following the\n",
    "(official guidelines)[https://github.com/pyenv/pyenv#installation].\n",
    "We would recommend to use (automatic installer)[https://github.com/pyenv/pyenv#automatic-installer].\n",
    "\n",
    "---"
   ]
  },
  {
   "cell_type": "markdown",
   "metadata": {},
   "source": [
    "We can get further information for a project by providing its name."
   ]
  },
  {
   "cell_type": "code",
   "execution_count": 4,
   "metadata": {
    "collapsed": false,
    "jupyter": {
     "outputs_hidden": false
    },
    "ExecuteTime": {
     "end_time": "2023-05-18T06:09:04.552632Z",
     "start_time": "2023-05-18T06:09:04.501002Z"
    }
   },
   "source": [
    "framework.default.tests4py_info(\"cookiecutter\")"
   ],
   "outputs": []
  },
  {
   "cell_type": "markdown",
   "metadata": {},
   "source": [
    "We can also get the information for a single defect by defining its bug id."
   ]
  },
  {
   "cell_type": "code",
   "execution_count": 5,
   "metadata": {
    "collapsed": false,
    "jupyter": {
     "outputs_hidden": false
    },
    "ExecuteTime": {
     "end_time": "2023-05-18T06:09:04.558282Z",
     "start_time": "2023-05-18T06:09:04.530554Z"
    }
   },
   "source": [
    "framework.default.tests4py_info(\"cookiecutter\", 2)"
   ],
   "outputs": []
  },
  {
   "cell_type": "markdown",
   "source": [
    "Now we can see all the information we need."
   ],
   "metadata": {
    "collapsed": false
   }
  },
  {
   "cell_type": "markdown",
   "source": [
    "## Reports\n",
    "\n",
    "As you may have noticed already, there is some JSON output for each cell.\n",
    "This is a result of _Tests4Py_ reporting system, which allows you to directly leverage this information in your script.\n",
    "\n",
    "Each command returns a specific report.\n",
    "As an example consider the last call:"
   ],
   "metadata": {
    "collapsed": false
   }
  },
  {
   "cell_type": "code",
   "execution_count": 6,
   "source": [
    "report = framework.default.tests4py_info(\"cookiecutter\", 2)"
   ],
   "metadata": {
    "collapsed": false,
    "ExecuteTime": {
     "end_time": "2023-05-18T06:09:04.623787Z",
     "start_time": "2023-05-18T06:09:04.559404Z"
    }
   },
   "outputs": []
  },
  {
   "cell_type": "markdown",
   "source": [
    "The returned report has all information you require, for instance, about the Python version of the queried project."
   ],
   "metadata": {
    "collapsed": false
   }
  },
  {
   "cell_type": "code",
   "execution_count": 7,
   "source": [
    "report.project.python_version"
   ],
   "metadata": {
    "collapsed": false,
    "ExecuteTime": {
     "end_time": "2023-05-18T06:09:04.624344Z",
     "start_time": "2023-05-18T06:09:04.585951Z"
    }
   },
   "outputs": []
  },
  {
   "cell_type": "markdown",
   "source": [
    "## Preparing a Subject\n",
    "\n",
    "As a first step we need to get the subject we want to investigate.\n",
    "We will use Cookiecutter with the bug id 2 as a continues example, during this demonstration.\n",
    "\n",
    "We start by checking out the subject to a location we determine."
   ],
   "metadata": {
    "collapsed": false
   }
  },
  {
   "cell_type": "code",
   "execution_count": 11,
   "source": [
    "from pathlib import Path"
   ],
   "metadata": {
    "collapsed": false,
    "ExecuteTime": {
     "end_time": "2023-05-18T06:10:41.087235Z",
     "start_time": "2023-05-18T06:10:41.082505Z"
    }
   },
   "outputs": []
  },
  {
   "cell_type": "code",
   "execution_count": 18,
   "source": [
    "framework.default.tests4py_checkout(\"cookiecutter\", 2, fixed=False, work_dir=Path(\"tmp\").absolute())"
   ],
   "metadata": {
    "collapsed": false,
    "ExecuteTime": {
     "end_time": "2023-05-18T06:17:48.715302Z",
     "start_time": "2023-05-18T06:17:45.771342Z"
    }
   },
   "outputs": []
  },
  {
   "cell_type": "markdown",
   "source": [
    "Now we can compile the subject."
   ],
   "metadata": {
    "collapsed": false
   }
  },
  {
   "cell_type": "code",
   "execution_count": 20,
   "source": [
    "framework.default.tests4py_compile(Path(\"tmp\", \"cookiecutter_2\").absolute())"
   ],
   "metadata": {
    "collapsed": false,
    "ExecuteTime": {
     "end_time": "2023-05-18T06:18:07.355088Z",
     "start_time": "2023-05-18T06:18:02.931550Z"
    }
   },
   "outputs": []
  },
  {
   "cell_type": "code",
   "execution_count": null,
   "source": [],
   "metadata": {
    "collapsed": false
   },
   "outputs": []
  }
 ],
 "metadata": {
  "kernelspec": {
   "display_name": "Python 3 (ipykernel)",
   "language": "python",
   "name": "python3"
  },
  "language_info": {
   "codemirror_mode": {
    "name": "ipython",
    "version": 3
   },
   "file_extension": ".py",
   "mimetype": "text/x-python",
   "name": "python",
   "nbconvert_exporter": "python",
   "pygments_lexer": "ipython3",
   "version": "3.10.9"
  }
 },
 "nbformat": 4,
 "nbformat_minor": 4
}
