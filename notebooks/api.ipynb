{
 "cells": [
  {
   "cell_type": "markdown",
   "source": [
    "# Tests4Py API\n",
    "\n",
    "In this notebook we demonstrate the usage of Tests4Py's API. We will use the `middle_1` subject as an example in this tutorial."
   ],
   "metadata": {
    "collapsed": false
   },
   "id": "891fa5f035dcc22e"
  },
  {
   "cell_type": "markdown",
   "source": [
    "## Importing the API\n",
    "\n",
    "To get access to the API, we need to import the `tests4py` module."
   ],
   "metadata": {
    "collapsed": false
   },
   "id": "5e50db83da409da7"
  },
  {
   "cell_type": "code",
   "source": [
    "import tests4py.api as t4p"
   ],
   "metadata": {
    "collapsed": false,
    "ExecuteTime": {
     "end_time": "2024-04-18T08:46:02.395719Z",
     "start_time": "2024-04-18T08:46:01.734849Z"
    }
   },
   "id": "10fc00f9b2adef94",
   "execution_count": 1,
   "outputs": []
  },
  {
   "cell_type": "markdown",
   "source": [
    "## Retrieving Information about the Subject\n",
    "\n",
    "Let's start by retrieving information about the subject."
   ],
   "metadata": {
    "collapsed": false
   },
   "id": "6a20bf295223edc8"
  },
  {
   "cell_type": "code",
   "source": [
    "t4p.info()"
   ],
   "metadata": {
    "collapsed": false,
    "ExecuteTime": {
     "end_time": "2024-04-18T08:46:03.362074Z",
     "start_time": "2024-04-18T08:46:03.351940Z"
    }
   },
   "id": "57cd63b7a9e83a37",
   "execution_count": 2,
   "outputs": []
  },
  {
   "cell_type": "markdown",
   "source": [
    "As you can see, we get a list of all subjects in the database. Note that we get a dictionary, as a return value. This \n",
    "dictionary is actually a report that comprises the result of the executed command. In the next step we get the \n",
    "information about a specific project, but preserving the report."
   ],
   "metadata": {
    "collapsed": false
   },
   "id": "3318b9ef9dbbc311"
  },
  {
   "cell_type": "code",
   "source": [
    "report = t4p.info(project_name='middle')"
   ],
   "metadata": {
    "collapsed": false,
    "ExecuteTime": {
     "end_time": "2024-04-18T08:46:05.211457Z",
     "start_time": "2024-04-18T08:46:05.206596Z"
    }
   },
   "id": "ce123a36d55663e1",
   "execution_count": 3,
   "outputs": []
  },
  {
   "cell_type": "markdown",
   "source": [
    "### Excursion: Reports\n",
    "\n",
    "The report contains specific information for the executed command. In general, we can validate whether the execution \n",
    "was successfully and what error was triggered without interrupting our execution."
   ],
   "metadata": {
    "collapsed": false
   },
   "id": "876bbd5f8ca32b3e"
  },
  {
   "cell_type": "code",
   "source": [
    "report.successful"
   ],
   "metadata": {
    "collapsed": false,
    "ExecuteTime": {
     "end_time": "2024-04-18T08:46:09.397847Z",
     "start_time": "2024-04-18T08:46:09.392542Z"
    }
   },
   "id": "3ce04c86dc5ab778",
   "execution_count": 4,
   "outputs": []
  },
  {
   "cell_type": "markdown",
   "source": [
    "Let's try an invalid project name as an example."
   ],
   "metadata": {
    "collapsed": false
   },
   "id": "e882f60f7a09e553"
  },
  {
   "cell_type": "code",
   "source": [
    "report = t4p.info(project_name='invalid')"
   ],
   "metadata": {
    "collapsed": false,
    "ExecuteTime": {
     "end_time": "2024-04-18T08:46:10.877406Z",
     "start_time": "2024-04-18T08:46:10.874030Z"
    }
   },
   "id": "49f8f6514286d71c",
   "execution_count": 5,
   "outputs": []
  },
  {
   "cell_type": "markdown",
   "source": [
    "And check whether the execution was successful."
   ],
   "metadata": {
    "collapsed": false
   },
   "id": "3fff38af26867271"
  },
  {
   "cell_type": "code",
   "source": [
    "report.successful"
   ],
   "metadata": {
    "collapsed": false,
    "ExecuteTime": {
     "end_time": "2024-04-18T08:46:25.803964Z",
     "start_time": "2024-04-18T08:46:25.798981Z"
    }
   },
   "id": "a4eddf5e349ba71f",
   "execution_count": 6,
   "outputs": []
  },
  {
   "cell_type": "markdown",
   "source": [
    "And what error was triggered."
   ],
   "metadata": {
    "collapsed": false
   },
   "id": "8f9d30dca0079da0"
  },
  {
   "cell_type": "code",
   "source": [
    "report.raised"
   ],
   "metadata": {
    "collapsed": false,
    "ExecuteTime": {
     "end_time": "2024-04-18T08:46:27.450179Z",
     "start_time": "2024-04-18T08:46:27.445234Z"
    }
   },
   "id": "cbb34e832284cf61",
   "execution_count": 7,
   "outputs": []
  },
  {
   "cell_type": "markdown",
   "source": [
    "### Back to the Subject Information\n",
    "\n",
    "Let's get back to the subject information. We can further get the information about the subject by specifying the bug id. Since we are investigating the `middle_1` subject, we will use the bug id `1`."
   ],
   "metadata": {
    "collapsed": false
   },
   "id": "cbae32aeb5c2b256"
  },
  {
   "cell_type": "code",
   "source": [
    "t4p.info(project_name='middle', bug_id=1)"
   ],
   "metadata": {
    "collapsed": false,
    "ExecuteTime": {
     "end_time": "2024-04-18T08:46:34.565044Z",
     "start_time": "2024-04-18T08:46:34.557714Z"
    }
   },
   "id": "38de543d2f107597",
   "execution_count": 8,
   "outputs": []
  },
  {
   "cell_type": "markdown",
   "source": [
    "In this information, we get the GitHub link to the subject, the commits for the buggy and its fixed version, the test \n",
    "cases that fail, and if unittest and system test generation is enabled."
   ],
   "metadata": {
    "collapsed": false
   },
   "id": "ea622f8f77cee3be"
  },
  {
   "cell_type": "markdown",
   "source": [
    "Finally, we can access the subject itself as part of the API."
   ],
   "metadata": {
    "collapsed": false
   },
   "id": "afc05d2200ef99f3"
  },
  {
   "cell_type": "code",
   "source": [
    "t4p.middle_1"
   ],
   "metadata": {
    "collapsed": false,
    "ExecuteTime": {
     "end_time": "2024-04-18T08:46:37.636633Z",
     "start_time": "2024-04-18T08:46:37.631801Z"
    }
   },
   "id": "81317885880b24e3",
   "execution_count": 9,
   "outputs": []
  },
  {
   "cell_type": "markdown",
   "source": [
    "## Retrieving the Subject\n",
    "\n",
    "As a next step we can retrieve the subject, such that we have a local copy of it to work with."
   ],
   "metadata": {
    "collapsed": false
   },
   "id": "6d79e06ac3799617"
  },
  {
   "cell_type": "code",
   "source": [
    "t4p.checkout(t4p.middle_1)"
   ],
   "metadata": {
    "collapsed": false,
    "ExecuteTime": {
     "end_time": "2024-04-18T08:46:39.653738Z",
     "start_time": "2024-04-18T08:46:39.467466Z"
    }
   },
   "id": "3949545169f557f9",
   "execution_count": 10,
   "outputs": []
  },
  {
   "cell_type": "markdown",
   "source": [
    "## Installing the Subject\n",
    "\n",
    "Now we can build the subject. This will install all dependencies and the subject in a virtual environment. \n",
    "It may also install the correct Python version, if it is not already installed (Note that this may take a while)."
   ],
   "metadata": {
    "collapsed": false
   },
   "id": "63bc42a0642c3304"
  },
  {
   "cell_type": "code",
   "source": [
    "t4p.build()"
   ],
   "metadata": {
    "collapsed": false,
    "ExecuteTime": {
     "end_time": "2024-04-18T08:46:48.126153Z",
     "start_time": "2024-04-18T08:46:41.755605Z"
    }
   },
   "id": "3dc1890ba4a6ec0e",
   "execution_count": 11,
   "outputs": []
  },
  {
   "cell_type": "markdown",
   "source": [
    "## Executing the Failing Test Cases\n",
    "\n",
    "Let's execute the failing test cases (in this case, we only have one)."
   ],
   "metadata": {
    "collapsed": false
   },
   "id": "c46ad1515454ada0"
  },
  {
   "cell_type": "code",
   "source": [
    "t4p.test()"
   ],
   "metadata": {
    "collapsed": false,
    "ExecuteTime": {
     "end_time": "2024-04-18T08:46:55.182964Z",
     "start_time": "2024-04-18T08:46:54.205004Z"
    }
   },
   "id": "bc9c88c82b465150",
   "execution_count": 12,
   "outputs": []
  },
  {
   "cell_type": "markdown",
   "source": [
    "We can also execute all tests or all relevant tests (i.e. the tests closely related to the failing one) in the subject \n",
    "by setting the `all_tests` parameter or `relevant_tests` parameter to `True` respectively."
   ],
   "metadata": {
    "collapsed": false
   },
   "id": "1b2bad2e6b1a8e3d"
  },
  {
   "cell_type": "code",
   "source": [
    "t4p.test(all_tests=True)"
   ],
   "metadata": {
    "collapsed": false,
    "ExecuteTime": {
     "end_time": "2024-04-18T08:46:59.268899Z",
     "start_time": "2024-04-18T08:46:58.651243Z"
    }
   },
   "id": "f0ce801f15f2dcd4",
   "execution_count": 13,
   "outputs": []
  },
  {
   "cell_type": "code",
   "source": [
    "t4p.test(relevant_tests=True)"
   ],
   "metadata": {
    "collapsed": false,
    "ExecuteTime": {
     "end_time": "2024-04-18T08:47:02.326097Z",
     "start_time": "2024-04-18T08:47:01.642188Z"
    }
   },
   "id": "72a586a1c062d061",
   "execution_count": 14,
   "outputs": []
  },
  {
   "cell_type": "markdown",
   "source": [
    "## Unittests\n",
    "\n",
    "Let's generate and execute some unittests. We generate 100 unittests with 10 of them failing."
   ],
   "metadata": {
    "collapsed": false
   },
   "id": "9247f34c441e095c"
  },
  {
   "cell_type": "code",
   "source": [
    "t4p.unittest_generate(n=100, p=10)"
   ],
   "metadata": {
    "collapsed": false,
    "ExecuteTime": {
     "end_time": "2024-04-18T08:47:05.870163Z",
     "start_time": "2024-04-18T08:47:05.784216Z"
    }
   },
   "id": "467112c190a1bd6c",
   "execution_count": 15,
   "outputs": []
  },
  {
   "cell_type": "markdown",
   "source": [
    "Now we can execute the generated unittests."
   ],
   "metadata": {
    "collapsed": false
   },
   "id": "372b0b5509283ab1"
  },
  {
   "cell_type": "code",
   "source": [
    "t4p.unittest_test(diversity=False)"
   ],
   "metadata": {
    "collapsed": false,
    "ExecuteTime": {
     "end_time": "2024-04-18T08:47:09.782084Z",
     "start_time": "2024-04-18T08:47:08.950636Z"
    }
   },
   "id": "4ee631a7c0ce05ff",
   "execution_count": 16,
   "outputs": []
  },
  {
   "cell_type": "markdown",
   "source": [
    "As you can see 90 of the 100 generated unittests are passing while 10 are failing."
   ],
   "metadata": {
    "collapsed": false
   },
   "id": "df52cefa1287687f"
  },
  {
   "cell_type": "markdown",
   "source": [
    "## System Tests\n",
    "\n",
    "Let's do the same for system tests. We generate 100 system tests with 10 of them failing."
   ],
   "metadata": {
    "collapsed": false
   },
   "id": "8a0ab70e1d2ea7d2"
  },
  {
   "cell_type": "code",
   "source": [
    "t4p.systemtest_generate(n=100, p=10)"
   ],
   "metadata": {
    "collapsed": false,
    "ExecuteTime": {
     "end_time": "2024-04-18T08:47:13.652699Z",
     "start_time": "2024-04-18T08:47:13.554079Z"
    }
   },
   "id": "bf1ce07f17141002",
   "execution_count": 17,
   "outputs": []
  },
  {
   "cell_type": "markdown",
   "source": [
    "And now we execute them."
   ],
   "metadata": {
    "collapsed": false
   },
   "id": "d47e2363956cc23b"
  },
  {
   "cell_type": "code",
   "source": [
    "t4p.systemtest_test(diversity=False)"
   ],
   "metadata": {
    "collapsed": false,
    "ExecuteTime": {
     "end_time": "2024-04-18T08:47:27.819167Z",
     "start_time": "2024-04-18T08:47:16.264511Z"
    }
   },
   "id": "63b5db7070563d27",
   "execution_count": 18,
   "outputs": []
  },
  {
   "cell_type": "markdown",
   "source": [
    "## Executing an Input\n",
    "\n",
    "Tests4Py also allows us to directly execute a specific input."
   ],
   "metadata": {
    "collapsed": false
   },
   "id": "ae0430d99229985f"
  },
  {
   "cell_type": "code",
   "source": [
    "t4p.run(args_or_path=['2', '1', '3'])"
   ],
   "metadata": {
    "collapsed": false,
    "ExecuteTime": {
     "end_time": "2024-04-18T08:47:59.962071Z",
     "start_time": "2024-04-18T08:47:59.605938Z"
    }
   },
   "id": "ea4bc413a1f73137",
   "execution_count": 19,
   "outputs": []
  },
  {
   "cell_type": "markdown",
   "source": [
    "The run command can also invoke the oracle to get an actual test result."
   ],
   "metadata": {
    "collapsed": false
   },
   "id": "15661e5a4db51d61"
  },
  {
   "cell_type": "code",
   "source": [
    "t4p.run(args_or_path=['2', '1', '3'], invoke_oracle=True)"
   ],
   "metadata": {
    "collapsed": false,
    "ExecuteTime": {
     "end_time": "2024-04-18T08:48:08.767902Z",
     "start_time": "2024-04-18T08:48:08.463672Z"
    }
   },
   "id": "68fe8ffe152e95f3",
   "execution_count": 20,
   "outputs": []
  },
  {
   "cell_type": "markdown",
   "source": [
    "## Summary\n",
    "\n",
    "With this information we can now conduct all kinds of experiments for evaluating various testing, repair, and debugging \n",
    "approaches. Since Tests4Py use the local copy of the subject we can modify the subject as we like and execute the\n",
    "various commands on it. These characteristics make Tests4Py a powerful tool and a benchmark of choice for those \n",
    "(and countless other) techniques."
   ],
   "metadata": {
    "collapsed": false
   },
   "id": "ba74689593abf265"
  }
 ],
 "metadata": {
  "kernelspec": {
   "display_name": "Python 3",
   "language": "python",
   "name": "python3"
  },
  "language_info": {
   "codemirror_mode": {
    "name": "ipython",
    "version": 2
   },
   "file_extension": ".py",
   "mimetype": "text/x-python",
   "name": "python",
   "nbconvert_exporter": "python",
   "pygments_lexer": "ipython2",
   "version": "2.7.6"
  }
 },
 "nbformat": 4,
 "nbformat_minor": 5
}
