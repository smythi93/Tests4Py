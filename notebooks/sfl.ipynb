{
 "cells": [
  {
   "cell_type": "markdown",
   "source": [
    "# Tests4Py Statistical Fault Localization\n",
    "\n",
    "In this notebook we demonstrate the usage of Tests4Py in the context of statistical fault localization. \n",
    "We will use the `middle_2` subject as an example in this tutorial."
   ],
   "metadata": {
    "collapsed": false
   },
   "id": "891fa5f035dcc22e"
  },
  {
   "cell_type": "markdown",
   "source": [
    "## Importing the API\n",
    "\n",
    "To get access to the API, we need to import the `tests4py` module."
   ],
   "metadata": {
    "collapsed": false
   },
   "id": "5e50db83da409da7"
  },
  {
   "cell_type": "code",
   "source": [
    "from pathlib import Path\n",
    "\n",
    "import tests4py.api as t4p\n",
    "from tests4py import sfl"
   ],
   "metadata": {
    "collapsed": false,
    "ExecuteTime": {
     "end_time": "2024-04-18T08:49:25.277881Z",
     "start_time": "2024-04-18T08:49:24.753447Z"
    }
   },
   "id": "10fc00f9b2adef94",
   "execution_count": 1,
   "outputs": []
  },
  {
   "cell_type": "markdown",
   "source": [
    "## Retrieving the Subject\n",
    "\n",
    "As a next step we can retrieve the subject, such that we have a local copy of it to work with."
   ],
   "metadata": {
    "collapsed": false
   },
   "id": "6d79e06ac3799617"
  },
  {
   "cell_type": "code",
   "source": [
    "report = t4p.checkout(t4p.middle_2)"
   ],
   "metadata": {
    "collapsed": false,
    "ExecuteTime": {
     "end_time": "2024-04-18T08:49:27.819811Z",
     "start_time": "2024-04-18T08:49:27.624094Z"
    }
   },
   "id": "3949545169f557f9",
   "execution_count": 2,
   "outputs": []
  },
  {
   "cell_type": "markdown",
   "source": [
    "We will use the `report` to extract the original source since fault localization may need it later on."
   ],
   "metadata": {
    "collapsed": false
   },
   "id": "3f8aa9b3c1a70a8c"
  },
  {
   "cell_type": "code",
   "source": [
    "src = report.location"
   ],
   "metadata": {
    "collapsed": false,
    "ExecuteTime": {
     "end_time": "2024-04-18T08:49:30.515973Z",
     "start_time": "2024-04-18T08:49:30.512241Z"
    }
   },
   "id": "fd67a7da260a3a2c",
   "execution_count": 3,
   "outputs": []
  },
  {
   "cell_type": "markdown",
   "source": [
    "## Instrumenting the Subject\n",
    "\n",
    "Now we can instrument the subject to retrieve the fault localization information. \n",
    "This will also install all dependencies and the subject in a virtual environment. \n",
    "It may also install the correct Python version, if it is not already installed (Note that this may take a while)."
   ],
   "metadata": {
    "collapsed": false
   },
   "id": "63bc42a0642c3304"
  },
  {
   "cell_type": "code",
   "source": [
    "dst = Path(\"tmp\", \"sfl\")\n",
    "sfl.sflkit_instrument(dst, events=\"line\")"
   ],
   "metadata": {
    "collapsed": false,
    "ExecuteTime": {
     "end_time": "2024-04-18T08:49:40.585344Z",
     "start_time": "2024-04-18T08:49:32.067987Z"
    }
   },
   "id": "3dc1890ba4a6ec0e",
   "execution_count": 4,
   "outputs": []
  },
  {
   "cell_type": "markdown",
   "source": [
    "## Executing the Relevant Tests\n",
    "\n",
    "Let's execute the relevant test cases to get the fault localization information."
   ],
   "metadata": {
    "collapsed": false
   },
   "id": "c46ad1515454ada0"
  },
  {
   "cell_type": "code",
   "source": "sfl.sflkit_unittest(work_dir=dst)",
   "metadata": {
    "collapsed": false,
    "ExecuteTime": {
     "end_time": "2024-04-18T08:51:19.619743Z",
     "start_time": "2024-04-18T08:51:16.237356Z"
    }
   },
   "id": "bc9c88c82b465150",
   "execution_count": 6,
   "outputs": []
  },
  {
   "cell_type": "markdown",
   "source": [
    "## Analyzing the Fault Localization Information\n",
    "\n",
    "Now we can leverage the fault localization information to analyze the subject and find the most likely faulty lines."
   ],
   "metadata": {
    "collapsed": false
   },
   "id": "21b6a3051ab99c85"
  },
  {
   "cell_type": "code",
   "source": [
    "report = sfl.sflkit_analyze(work_dir=dst, \n",
    "                            src=src,\n",
    "                            predicates=\"line\")"
   ],
   "metadata": {
    "collapsed": false,
    "ExecuteTime": {
     "end_time": "2024-04-18T08:51:25.204945Z",
     "start_time": "2024-04-18T08:51:25.136501Z"
    }
   },
   "id": "278348c2a5c756bc",
   "execution_count": 7,
   "outputs": []
  },
  {
   "cell_type": "markdown",
   "source": [
    "Now we retrieve the suggested lines based on the Ochiai metric."
   ],
   "metadata": {
    "collapsed": false
   },
   "id": "6f2db7c391984565"
  },
  {
   "cell_type": "code",
   "source": [
    "from sflkit.analysis.analysis_type import AnalysisType\n",
    "from sflkit.analysis.spectra import Spectrum\n",
    "\n",
    "suggestions = report.analyzer.get_sorted_suggestions(src,\n",
    "            type_=AnalysisType.LINE,\n",
    "            metric=Spectrum.Ochiai,)\n",
    "suggestions"
   ],
   "metadata": {
    "collapsed": false,
    "ExecuteTime": {
     "end_time": "2024-04-18T08:51:32.993706Z",
     "start_time": "2024-04-18T08:51:32.987519Z"
    }
   },
   "id": "ae894410a7d93cca",
   "execution_count": 8,
   "outputs": []
  },
  {
   "cell_type": "markdown",
   "source": [
    "## Evaluation\n",
    "\n",
    "With Tests4Py we can get the faulty lines, i.e. the lines that were changed with the fix."
   ],
   "metadata": {
    "collapsed": false
   },
   "id": "bf1825a469ca2f19"
  },
  {
   "cell_type": "code",
   "source": [
    "faulty_lines = t4p.get_faulty_lines(t4p.middle_2)\n",
    "faulty_lines"
   ],
   "metadata": {
    "collapsed": false,
    "ExecuteTime": {
     "end_time": "2024-04-18T08:51:35.675735Z",
     "start_time": "2024-04-18T08:51:35.669957Z"
    }
   },
   "id": "c061930134ccb9d2",
   "execution_count": 9,
   "outputs": []
  },
  {
   "cell_type": "markdown",
   "source": [
    "As you can see, the top suggested line is indeed the correctly evaluated faulty line."
   ],
   "metadata": {
    "collapsed": false
   },
   "id": "5ae0956352f4d326"
  },
  {
   "cell_type": "code",
   "source": [
    "assert faulty_lines[0] in suggestions[0].lines"
   ],
   "metadata": {
    "collapsed": false,
    "ExecuteTime": {
     "end_time": "2024-04-18T08:51:38.198914Z",
     "start_time": "2024-04-18T08:51:38.194141Z"
    }
   },
   "id": "bb2d4dc6504d1f0a",
   "execution_count": 10,
   "outputs": []
  },
  {
   "cell_type": "markdown",
   "source": [
    "## Summary\n",
    "\n",
    "Tests4Py is with its direct integration of fault localization tools a powerful tool to analyze approaches\n",
    "in this area."
   ],
   "metadata": {
    "collapsed": false
   },
   "id": "ba74689593abf265"
  }
 ],
 "metadata": {
  "kernelspec": {
   "display_name": "Python 3",
   "language": "python",
   "name": "python3"
  },
  "language_info": {
   "codemirror_mode": {
    "name": "ipython",
    "version": 2
   },
   "file_extension": ".py",
   "mimetype": "text/x-python",
   "name": "python",
   "nbconvert_exporter": "python",
   "pygments_lexer": "ipython2",
   "version": "2.7.6"
  }
 },
 "nbformat": 4,
 "nbformat_minor": 5
}
