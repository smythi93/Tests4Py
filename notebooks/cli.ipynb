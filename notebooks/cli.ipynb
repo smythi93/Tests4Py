{
 "cells": [
  {
   "cell_type": "markdown",
   "source": [
    "# Tests4Py CLI\n",
    "\n",
    "In this notebook we demonstrate the usage of Tests4Py's CLI. We will use the `middle_1` subject as an example in this \n",
    "tutorial."
   ],
   "metadata": {
    "collapsed": false
   },
   "id": "891fa5f035dcc22e"
  },
  {
   "cell_type": "markdown",
   "source": [
    "## Retrieving Information about the Subject\n",
    "\n",
    "Let's start by retrieving information about the subject."
   ],
   "metadata": {
    "collapsed": false
   },
   "id": "6a20bf295223edc8"
  },
  {
   "cell_type": "code",
   "source": [
    "! t4p info"
   ],
   "metadata": {
    "collapsed": false,
    "ExecuteTime": {
     "end_time": "2024-04-18T08:48:22.172728Z",
     "start_time": "2024-04-18T08:48:21.318192Z"
    }
   },
   "id": "57cd63b7a9e83a37",
   "execution_count": 1,
   "outputs": []
  },
  {
   "cell_type": "markdown",
   "source": [
    "As you can see, we get a list of all subjects in the database. In the next step we get the \n",
    "information about a specific project."
   ],
   "metadata": {
    "collapsed": false
   },
   "id": "3318b9ef9dbbc311"
  },
  {
   "cell_type": "code",
   "source": [
    "! t4p info -p middle"
   ],
   "metadata": {
    "collapsed": false,
    "ExecuteTime": {
     "end_time": "2024-04-18T08:48:24.312042Z",
     "start_time": "2024-04-18T08:48:23.461926Z"
    }
   },
   "id": "ce123a36d55663e1",
   "execution_count": 2,
   "outputs": []
  },
  {
   "cell_type": "markdown",
   "source": [
    "We can further get the information about the subject by specifying the bug id. Since we are investigating the `middle_1` subject, we will use the bug id `1`."
   ],
   "metadata": {
    "collapsed": false
   },
   "id": "cbae32aeb5c2b256"
  },
  {
   "cell_type": "code",
   "source": [
    "! t4p info -p middle -i 1"
   ],
   "metadata": {
    "collapsed": false,
    "ExecuteTime": {
     "end_time": "2024-04-18T08:48:26.060766Z",
     "start_time": "2024-04-18T08:48:25.195715Z"
    }
   },
   "id": "38de543d2f107597",
   "execution_count": 3,
   "outputs": []
  },
  {
   "cell_type": "markdown",
   "source": [
    "In this information, we get the GitHub link to the subject, the commits for the buggy and its fixed version, the test \n",
    "cases that fail, and if unittest and system test generation is enabled."
   ],
   "metadata": {
    "collapsed": false
   },
   "id": "ea622f8f77cee3be"
  },
  {
   "cell_type": "markdown",
   "source": [
    "## Retrieving the Subject\n",
    "\n",
    "As a next step we can retrieve the subject, such that we have a local copy of it to work with."
   ],
   "metadata": {
    "collapsed": false
   },
   "id": "6d79e06ac3799617"
  },
  {
   "cell_type": "code",
   "source": [
    "! t4p checkout -p middle -i 1"
   ],
   "metadata": {
    "collapsed": false,
    "ExecuteTime": {
     "end_time": "2024-04-18T08:48:29.034761Z",
     "start_time": "2024-04-18T08:48:27.610456Z"
    }
   },
   "id": "3949545169f557f9",
   "execution_count": 4,
   "outputs": []
  },
  {
   "cell_type": "markdown",
   "source": [
    "## Installing the Subject\n",
    "\n",
    "Now we can build the subject. This will install all dependencies and the subject in a virtual environment. \n",
    "It may also install the correct Python version, if it is not already installed (Note that this may take a while)."
   ],
   "metadata": {
    "collapsed": false
   },
   "id": "63bc42a0642c3304"
  },
  {
   "cell_type": "code",
   "source": [
    "! t4p build"
   ],
   "metadata": {
    "collapsed": false,
    "ExecuteTime": {
     "end_time": "2024-04-18T08:48:37.207361Z",
     "start_time": "2024-04-18T08:48:30.191119Z"
    }
   },
   "id": "3dc1890ba4a6ec0e",
   "execution_count": 5,
   "outputs": []
  },
  {
   "cell_type": "markdown",
   "source": [
    "## Executing the Failing Test Cases\n",
    "\n",
    "Let's execute the failing test cases (in this case, we only have one)."
   ],
   "metadata": {
    "collapsed": false
   },
   "id": "c46ad1515454ada0"
  },
  {
   "cell_type": "code",
   "source": [
    "! t4p test"
   ],
   "metadata": {
    "collapsed": false,
    "ExecuteTime": {
     "end_time": "2024-04-18T08:48:39.083060Z",
     "start_time": "2024-04-18T08:48:37.210447Z"
    }
   },
   "id": "bc9c88c82b465150",
   "execution_count": 6,
   "outputs": []
  },
  {
   "cell_type": "markdown",
   "source": [
    "We can also execute all tests or all relevant tests (i.e. the tests closely related to the failing one) in the subject \n",
    "by setting the `-a` parameter or `-r` flags, respectively."
   ],
   "metadata": {
    "collapsed": false
   },
   "id": "1b2bad2e6b1a8e3d"
  },
  {
   "cell_type": "code",
   "source": [
    "! t4p test -a"
   ],
   "metadata": {
    "collapsed": false,
    "ExecuteTime": {
     "end_time": "2024-04-18T08:48:40.516505Z",
     "start_time": "2024-04-18T08:48:39.086067Z"
    }
   },
   "id": "f0ce801f15f2dcd4",
   "execution_count": 7,
   "outputs": []
  },
  {
   "cell_type": "code",
   "source": [
    "! t4p test -r"
   ],
   "metadata": {
    "collapsed": false,
    "ExecuteTime": {
     "end_time": "2024-04-18T08:48:43.285390Z",
     "start_time": "2024-04-18T08:48:41.833904Z"
    }
   },
   "id": "72a586a1c062d061",
   "execution_count": 8,
   "outputs": []
  },
  {
   "cell_type": "markdown",
   "source": [
    "## Unittests\n",
    "\n",
    "Let's generate and execute some unittests. We generate 100 unittests with 10 of them failing."
   ],
   "metadata": {
    "collapsed": false
   },
   "id": "9247f34c441e095c"
  },
  {
   "cell_type": "code",
   "source": [
    "! t4p unittest generate -n 100 -f 10"
   ],
   "metadata": {
    "collapsed": false,
    "ExecuteTime": {
     "end_time": "2024-04-18T08:48:45.666916Z",
     "start_time": "2024-04-18T08:48:44.728039Z"
    }
   },
   "id": "467112c190a1bd6c",
   "execution_count": 9,
   "outputs": []
  },
  {
   "cell_type": "markdown",
   "source": [
    "Now we can execute the generated unittests."
   ],
   "metadata": {
    "collapsed": false
   },
   "id": "372b0b5509283ab1"
  },
  {
   "cell_type": "code",
   "source": [
    "! t4p unittest test"
   ],
   "metadata": {
    "collapsed": false,
    "ExecuteTime": {
     "end_time": "2024-04-18T08:48:49.609751Z",
     "start_time": "2024-04-18T08:48:47.915322Z"
    }
   },
   "id": "4ee631a7c0ce05ff",
   "execution_count": 10,
   "outputs": []
  },
  {
   "cell_type": "markdown",
   "source": [
    "As you can see 90 of the 100 generated unittests are passing while 10 are failing."
   ],
   "metadata": {
    "collapsed": false
   },
   "id": "df52cefa1287687f"
  },
  {
   "cell_type": "markdown",
   "source": [
    "## System Tests\n",
    "\n",
    "Let's do the same for system tests. We generate 100 system tests with 10 of them failing."
   ],
   "metadata": {
    "collapsed": false
   },
   "id": "8a0ab70e1d2ea7d2"
  },
  {
   "cell_type": "code",
   "source": [
    "! t4p systemtest generate -n 100 -f 10"
   ],
   "metadata": {
    "collapsed": false,
    "ExecuteTime": {
     "end_time": "2024-04-18T08:48:52.229354Z",
     "start_time": "2024-04-18T08:48:51.210108Z"
    }
   },
   "id": "bf1ce07f17141002",
   "execution_count": 11,
   "outputs": []
  },
  {
   "cell_type": "markdown",
   "source": [
    "And now we execute them."
   ],
   "metadata": {
    "collapsed": false
   },
   "id": "d47e2363956cc23b"
  },
  {
   "cell_type": "code",
   "source": [
    "! t4p systemtest test"
   ],
   "metadata": {
    "collapsed": false,
    "ExecuteTime": {
     "end_time": "2024-04-18T08:49:06.542549Z",
     "start_time": "2024-04-18T08:48:54.538044Z"
    }
   },
   "id": "63b5db7070563d27",
   "execution_count": 12,
   "outputs": []
  },
  {
   "cell_type": "markdown",
   "source": [
    "## Executing an Input\n",
    "\n",
    "Tests4Py also allows us to directly execute a specific input."
   ],
   "metadata": {
    "collapsed": false
   },
   "id": "ae0430d99229985f"
  },
  {
   "cell_type": "code",
   "source": [
    "! t4p run 2 1 3"
   ],
   "metadata": {
    "collapsed": false,
    "ExecuteTime": {
     "end_time": "2024-04-18T08:49:09.617527Z",
     "start_time": "2024-04-18T08:49:08.474985Z"
    }
   },
   "id": "ea4bc413a1f73137",
   "execution_count": 13,
   "outputs": []
  },
  {
   "cell_type": "markdown",
   "source": [
    "The run command can also invoke the oracle to get an actual test result."
   ],
   "metadata": {
    "collapsed": false
   },
   "id": "15661e5a4db51d61"
  },
  {
   "cell_type": "code",
   "source": [
    "! t4p run -o 2 1 3"
   ],
   "metadata": {
    "collapsed": false,
    "ExecuteTime": {
     "end_time": "2024-04-18T08:49:11.970959Z",
     "start_time": "2024-04-18T08:49:10.829278Z"
    }
   },
   "id": "68fe8ffe152e95f3",
   "execution_count": 14,
   "outputs": []
  },
  {
   "cell_type": "markdown",
   "source": [
    "## Summary\n",
    "\n",
    "With this information we can now conduct all kinds of experiments for evaluating various testing, repair, and debugging \n",
    "approaches. Since Tests4Py use the local copy of the subject we can modify the subject as we like and execute the\n",
    "various commands on it. These characteristics make Tests4Py a powerful tool and a benchmark of choice for those \n",
    "(and countless other) techniques."
   ],
   "metadata": {
    "collapsed": false
   },
   "id": "ba74689593abf265"
  }
 ],
 "metadata": {
  "kernelspec": {
   "display_name": "Python 3",
   "language": "python",
   "name": "python3"
  },
  "language_info": {
   "codemirror_mode": {
    "name": "ipython",
    "version": 2
   },
   "file_extension": ".py",
   "mimetype": "text/x-python",
   "name": "python",
   "nbconvert_exporter": "python",
   "pygments_lexer": "ipython2",
   "version": "2.7.6"
  }
 },
 "nbformat": 4,
 "nbformat_minor": 5
}
